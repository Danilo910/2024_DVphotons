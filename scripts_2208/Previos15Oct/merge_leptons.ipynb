{
 "cells": [
  {
   "cell_type": "code",
   "execution_count": 1,
   "metadata": {},
   "outputs": [
    {
     "name": "stdout",
     "output_type": "stream",
     "text": [
      "Antes del id\n",
      "   N  pdg          pt       eta       phi      mass\n",
      "0  0   11  101.946640 -0.564123  0.428510  0.000511\n",
      "1  0   11   43.164757 -1.714228  1.251678  0.000511\n",
      "2  2   11   48.543053 -0.480781 -2.341481  0.000511\n",
      "3  1   13   80.244438 -0.292960 -2.042102  0.105660\n",
      "4  1   13   15.664943 -2.136012  2.575546  0.105660\n",
      "5  2   13  105.800652 -0.170588 -2.540372  0.105660\n"
     ]
    },
    {
     "name": "stderr",
     "output_type": "stream",
     "text": [
      "<ipython-input-1-571665190c9c>:1: DeprecationWarning: \n",
      "Pyarrow will become a required dependency of pandas in the next major release of pandas (pandas 3.0),\n",
      "(to allow more performant data types, such as the Arrow string type, and better interoperability with other libraries)\n",
      "but was not found to be installed on your system.\n",
      "If this would cause problems for you,\n",
      "please provide us feedback at https://github.com/pandas-dev/pandas/issues/54466\n",
      "        \n",
      "  import pandas as pd\n"
     ]
    }
   ],
   "source": [
    "import pandas as pd\n",
    "\n",
    "# Example electron and muon DataFrames (already filtered and isolated)\n",
    "electrons = pd.DataFrame([\n",
    "    {\"N\": 0, 'pdg': 11, \"pt\": 101.946640, \"eta\": -0.564123, \"phi\": 0.428510, \"mass\": 0.000511},\n",
    "    {\"N\": 0, 'pdg': 11, \"pt\": 43.164757, \"eta\": -1.714228, \"phi\": 1.251678, \"mass\": 0.000511},\n",
    "    {\"N\": 2, 'pdg': 11, \"pt\": 48.543053, \"eta\": -0.480781, \"phi\": -2.341481, \"mass\": 0.000511},\n",
    "])\n",
    "\n",
    "muons = pd.DataFrame([\n",
    "    {\"N\": 1, 'pdg': 13, \"pt\": 80.244438, \"eta\": -0.292960, \"phi\": -2.042102, \"mass\": 0.105660},\n",
    "    {\"N\": 1, 'pdg': 13, \"pt\": 15.664943, \"eta\": -2.136012, \"phi\": 2.575546, \"mass\": 0.105660},\n",
    "    {\"N\": 2, 'pdg': 13, \"pt\": 105.800652, \"eta\": -0.170588, \"phi\": -2.540372, \"mass\": 0.105660},\n",
    "])\n",
    "\n",
    "# Step 1: Combine both DataFrames\n",
    "leptons = pd.concat([electrons, muons], ignore_index=True)\n",
    "print(\"Antes del id\")\n",
    "print(leptons)\n",
    "# Step 2: Add a secondary 'id' index within each event (N) to differentiate leptons\n",
    "leptons['id'] = leptons.groupby('N').cumcount()\n",
    "\n",
    "# Step 3: Set 'N' and 'id' as a MultiIndex\n",
    "leptons.set_index(['N', 'id'], inplace=True)\n",
    "\n",
    "# Step 4: Sort the DataFrame by the MultiIndex for clarity\n",
    "leptons.sort_index(inplace=True)\n",
    "\n",
    "# Display the final DataFrame\n",
    "#print(leptons)"
   ]
  },
  {
   "cell_type": "code",
   "execution_count": 3,
   "metadata": {},
   "outputs": [
    {
     "name": "stdout",
     "output_type": "stream",
     "text": [
      "   jet_iso_mu_e05  Constituents\n",
      "0               0            13\n",
      "1               5            12\n",
      "2               3            13\n",
      "3               0            10\n",
      "   jet_iso_mu_e05  Constituents\n",
      "2               3            13\n"
     ]
    }
   ],
   "source": [
    "# Example DataFrame\n",
    "data = {'jet_iso_mu_e05': [0, 5, 3, 0], 'Constituents': [13, 12, 13, 10]}\n",
    "jets = pd.DataFrame(data)\n",
    "print(jets)\n",
    "# Select rows where jet_iso_mu_e05 != 0 and Constituents == 13\n",
    "jets_anomalos = jets[(jets['jet_iso_mu_e05'] != 0) & (jets['Constituents'] == 13)]\n",
    "\n",
    "print(jets_anomalos)"
   ]
  },
  {
   "cell_type": "code",
   "execution_count": null,
   "metadata": {},
   "outputs": [],
   "source": []
  }
 ],
 "metadata": {
  "kernelspec": {
   "display_name": "Python 3",
   "language": "python",
   "name": "python3"
  }
 },
 "nbformat": 4,
 "nbformat_minor": 2
}
