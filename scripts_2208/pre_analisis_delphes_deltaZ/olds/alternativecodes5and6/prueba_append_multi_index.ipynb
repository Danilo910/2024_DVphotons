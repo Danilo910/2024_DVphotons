{
 "cells": [
  {
   "cell_type": "code",
   "execution_count": 2,
   "metadata": {},
   "outputs": [
    {
     "name": "stdout",
     "output_type": "stream",
     "text": [
      "               E         pt       eta       phi  z_origin  rel_tof         MET\n",
      "N id                                                                          \n",
      "0 0   138.600000  95.853752  0.913500 -0.890670       0.0      0.0  186.293396\n",
      "1 0   138.661026  95.853752  0.913035 -0.890673       0.0      0.0  186.293396\n"
     ]
    }
   ],
   "source": [
    "import pandas as pd\n",
    "\n",
    "# Existing DataFrame with multi-index (N, id)\n",
    "data_existing = {\n",
    "    'E': [138.6],\n",
    "    'pt': [95.853752],\n",
    "    'eta': [0.9135],\n",
    "    'phi': [-0.89067],\n",
    "    'z_origin': [0.0],\n",
    "    'rel_tof': [0.0],\n",
    "    'MET': [186.293396]\n",
    "}\n",
    "index_existing = pd.MultiIndex.from_tuples([(0, 0)], names=['N', 'id'])\n",
    "df_existing = pd.DataFrame(data_existing, index=index_existing)\n",
    "\n",
    "# New data to append with multi-index (N=1, id=0)\n",
    "data_new = {\n",
    "    'E': [138.661026],\n",
    "    'pt': [95.853752],\n",
    "    'eta': [0.913035],\n",
    "    'phi': [-0.890673],\n",
    "    'z_origin': [0.0],\n",
    "    'rel_tof': [0.0],\n",
    "    'MET': [186.293396]\n",
    "}\n",
    "index_new = pd.MultiIndex.from_tuples([(1, 0)], names=['N', 'id'])\n",
    "df_new = pd.DataFrame(data_new, index=index_new)\n",
    "\n",
    "# Concatenate the new data with the existing DataFrame\n",
    "df_combined = pd.concat([df_existing, df_new])\n",
    "\n",
    "# Display the combined DataFrame\n",
    "print(df_combined)\n"
   ]
  },
  {
   "cell_type": "code",
   "execution_count": null,
   "metadata": {},
   "outputs": [],
   "source": []
  }
 ],
 "metadata": {
  "kernelspec": {
   "display_name": "Python 3",
   "language": "python",
   "name": "python3"
  },
  "language_info": {
   "codemirror_mode": {
    "name": "ipython",
    "version": 3
   },
   "file_extension": ".py",
   "mimetype": "text/x-python",
   "name": "python",
   "nbconvert_exporter": "python",
   "pygments_lexer": "ipython3",
   "version": "3.9.7"
  }
 },
 "nbformat": 4,
 "nbformat_minor": 2
}
