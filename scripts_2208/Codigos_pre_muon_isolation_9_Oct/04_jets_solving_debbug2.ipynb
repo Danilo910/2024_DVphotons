{
 "cells": [
  {
   "cell_type": "code",
   "execution_count": 60,
   "metadata": {},
   "outputs": [
    {
     "name": "stdout",
     "output_type": "stream",
     "text": [
      "Original DataFrame:\n",
      "             pt       eta       phi constitu1\n",
      "N id                                         \n",
      "0 0   88.416481 -1.272924 -2.729549   [13, 1]\n",
      "  1   75.511162 -1.194886  0.037114      [13]\n",
      "\n",
      "Duplicated DataFrame:\n",
      "             pt       eta       phi constitu1\n",
      "N id                                         \n",
      "0 0   88.416481 -1.272924 -2.729549   [13, 1]\n",
      "  1   75.511162 -1.194886  0.037114      [13]\n",
      "1 0   88.416481 -1.272924 -2.729549   [13, 1]\n",
      "  1   75.511162 -1.194886  0.037114      [13]\n",
      "2 0   88.416481 -1.272924 -2.729549   [13, 1]\n",
      "  1   75.511162 -1.194886  0.037114      [13]\n",
      "3 0   88.416481 -1.272924 -2.729549   [13, 1]\n",
      "  1   75.511162 -1.194886  0.037114      [13]\n",
      "4 0   88.416481 -1.272924 -2.729549   [13, 1]\n",
      "  1   75.511162 -1.194886  0.037114      [13]\n",
      "5 0   88.416481 -1.272924 -2.729549   [13, 1]\n",
      "  1   75.511162 -1.194886  0.037114      [13]\n",
      "6 0   88.416481 -1.272924 -2.729549   [13, 1]\n",
      "  1   75.511162 -1.194886  0.037114      [13]\n",
      "7 0   88.416481 -1.272924 -2.729549   [13, 1]\n",
      "  1   75.511162 -1.194886  0.037114      [13]\n",
      "8 0   88.416481 -1.272924 -2.729549   [13, 1]\n",
      "  1   75.511162 -1.194886  0.037114      [13]\n",
      "9 0   88.416481 -1.272924 -2.729549   [13, 1]\n",
      "  1   75.511162 -1.194886  0.037114      [13]\n"
     ]
    }
   ],
   "source": [
    "import pandas as pd\n",
    "\n",
    "# Example MultiIndex DataFrame\n",
    "index = pd.MultiIndex.from_tuples([(0, 0), (0, 1)], names=[\"N\", \"id\"])\n",
    "data = {\n",
    "    'pt': [88.416481, 75.511162],\n",
    "    'eta': [-1.272924, -1.194886],\n",
    "    'phi': [-2.729549, 0.0371140],\n",
    "    'constitu1': [[13,1], [13]]\n",
    "}\n",
    "df = pd.DataFrame(data, index=index)\n",
    "\n",
    "print(\"Original DataFrame:\")\n",
    "print(df)\n",
    "\n",
    "# Number of times to duplicate each group\n",
    "num_duplicates = 10\n",
    "\n",
    "# Create an empty list to store the new rows\n",
    "duplicated_rows = []\n",
    "\n",
    "# Loop to copy each group of rows for N\n",
    "for n in range(num_duplicates):\n",
    "    # Shift the index by 'n' and append to the new DataFrame\n",
    "    new_group = df.copy()\n",
    "    new_group.index = pd.MultiIndex.from_tuples(\n",
    "        [(n, idx) for idx in new_group.index.get_level_values(1)], names=[\"N\", \"id\"]\n",
    "    )\n",
    "    \n",
    "    duplicated_rows.append(new_group)\n",
    "\n",
    "# Concatenate the duplicated groups into a new DataFrame\n",
    "df_duplicated = pd.concat(duplicated_rows)\n",
    "\n",
    "print(\"\\nDuplicated DataFrame:\")\n",
    "print(df_duplicated)"
   ]
  },
  {
   "cell_type": "code",
   "execution_count": 61,
   "metadata": {},
   "outputs": [],
   "source": [
    "def clean_impostor_jets(phs, obs):\n",
    "\n",
    "    #0 significa que no es un jet impostor, 1 significa que si lo es\n",
    "    \n",
    "    phs_list = []\n",
    "    for ix in phs.index.get_level_values(0).unique()[:]:\n",
    "        event_ph = phs.loc[ix]\n",
    "        #print(f\"Evento numero: '{ix}'\")\n",
    "\n",
    "        #print(\"Jets\")\n",
    "        #print(event_ph)\n",
    "\n",
    "        for index_ph, row_ph in event_ph.iterrows():\n",
    "            #print(f\"Estamos analizando el jet con indice '{index_ph}'\\n\")\n",
    "            df_constitu1 = row_ph[obs]\n",
    "            jet_impostor = 0\n",
    "            #print(\"df_constitu2\")\n",
    "            #print(df_constitu2)\n",
    "            if len(df_constitu1) == 1 and df_constitu1[0] in [13, -13]:\n",
    "                jet_impostor = 1\n",
    "\n",
    "            phs_list.append(jet_impostor)\n",
    "    \n",
    "    return phs_list"
   ]
  },
  {
   "cell_type": "code",
   "execution_count": 62,
   "metadata": {},
   "outputs": [
    {
     "name": "stdout",
     "output_type": "stream",
     "text": [
      "[0, 1, 0, 1, 0, 1, 0, 1, 0, 1, 0, 1, 0, 1, 0, 1, 0, 1, 0, 1]\n",
      "             pt       eta       phi constitu1  impostor_jet\n",
      "N id                                                       \n",
      "0 0   88.416481 -1.272924 -2.729549   [13, 1]             0\n",
      "  1   75.511162 -1.194886  0.037114      [13]             1\n",
      "1 0   88.416481 -1.272924 -2.729549   [13, 1]             0\n",
      "  1   75.511162 -1.194886  0.037114      [13]             1\n",
      "2 0   88.416481 -1.272924 -2.729549   [13, 1]             0\n",
      "  1   75.511162 -1.194886  0.037114      [13]             1\n",
      "3 0   88.416481 -1.272924 -2.729549   [13, 1]             0\n",
      "  1   75.511162 -1.194886  0.037114      [13]             1\n",
      "4 0   88.416481 -1.272924 -2.729549   [13, 1]             0\n",
      "  1   75.511162 -1.194886  0.037114      [13]             1\n",
      "5 0   88.416481 -1.272924 -2.729549   [13, 1]             0\n",
      "  1   75.511162 -1.194886  0.037114      [13]             1\n",
      "6 0   88.416481 -1.272924 -2.729549   [13, 1]             0\n",
      "  1   75.511162 -1.194886  0.037114      [13]             1\n",
      "7 0   88.416481 -1.272924 -2.729549   [13, 1]             0\n",
      "  1   75.511162 -1.194886  0.037114      [13]             1\n",
      "8 0   88.416481 -1.272924 -2.729549   [13, 1]             0\n",
      "  1   75.511162 -1.194886  0.037114      [13]             1\n",
      "9 0   88.416481 -1.272924 -2.729549   [13, 1]             0\n",
      "  1   75.511162 -1.194886  0.037114      [13]             1\n"
     ]
    }
   ],
   "source": [
    "vector = clean_impostor_jets(df_duplicated, 'constitu1')\n",
    "print(vector)\n",
    "df_duplicated['impostor_jet'] = vector\n",
    "print(df_duplicated)"
   ]
  },
  {
   "cell_type": "code",
   "execution_count": 63,
   "metadata": {},
   "outputs": [
    {
     "name": "stdout",
     "output_type": "stream",
     "text": [
      "             pt       eta       phi constitu1  impostor_jet\n",
      "N id                                                       \n",
      "0 0   88.416481 -1.272924 -2.729549   [13, 1]             0\n",
      "1 0   88.416481 -1.272924 -2.729549   [13, 1]             0\n",
      "2 0   88.416481 -1.272924 -2.729549   [13, 1]             0\n",
      "3 0   88.416481 -1.272924 -2.729549   [13, 1]             0\n",
      "4 0   88.416481 -1.272924 -2.729549   [13, 1]             0\n",
      "5 0   88.416481 -1.272924 -2.729549   [13, 1]             0\n",
      "6 0   88.416481 -1.272924 -2.729549   [13, 1]             0\n",
      "7 0   88.416481 -1.272924 -2.729549   [13, 1]             0\n",
      "8 0   88.416481 -1.272924 -2.729549   [13, 1]             0\n",
      "9 0   88.416481 -1.272924 -2.729549   [13, 1]             0\n"
     ]
    }
   ],
   "source": [
    "df_duplicated = df_duplicated[df_duplicated['impostor_jet'] == 0]\n",
    "print(df_duplicated)"
   ]
  },
  {
   "cell_type": "code",
   "execution_count": null,
   "metadata": {},
   "outputs": [],
   "source": []
  }
 ],
 "metadata": {
  "kernelspec": {
   "display_name": "Python 3",
   "language": "python",
   "name": "python3"
  },
  "language_info": {
   "codemirror_mode": {
    "name": "ipython",
    "version": 3
   },
   "file_extension": ".py",
   "mimetype": "text/x-python",
   "name": "python",
   "nbconvert_exporter": "python",
   "pygments_lexer": "ipython3",
   "version": "3.9.7"
  }
 },
 "nbformat": 4,
 "nbformat_minor": 2
}
